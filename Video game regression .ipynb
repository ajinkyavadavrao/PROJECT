{
 "cells": [
  {
   "cell_type": "code",
   "execution_count": 1,
   "metadata": {
    "execution": {
     "iopub.execute_input": "2020-09-06T19:26:45.309662Z",
     "iopub.status.busy": "2020-09-06T19:26:45.308869Z",
     "iopub.status.idle": "2020-09-06T19:26:46.735340Z",
     "shell.execute_reply": "2020-09-06T19:26:46.734629Z"
    },
    "papermill": {
     "duration": 1.45512,
     "end_time": "2020-09-06T19:26:46.735458",
     "exception": false,
     "start_time": "2020-09-06T19:26:45.280338",
     "status": "completed"
    },
    "tags": []
   },
   "outputs": [],
   "source": [
    "## Importing the libraries\n",
    "import pandas as pd\n",
    "import matplotlib.pyplot as plt\n",
    "import numpy as np\n",
    "import seaborn as sns\n",
    "import warnings\n",
    "warnings.filterwarnings('ignore')"
   ]
  },
  {
   "cell_type": "code",
   "execution_count": 2,
   "metadata": {
    "execution": {
     "iopub.execute_input": "2020-09-06T19:26:46.780004Z",
     "iopub.status.busy": "2020-09-06T19:26:46.779156Z",
     "iopub.status.idle": "2020-09-06T19:26:46.867254Z",
     "shell.execute_reply": "2020-09-06T19:26:46.866297Z"
    },
    "papermill": {
     "duration": 0.113842,
     "end_time": "2020-09-06T19:26:46.867406",
     "exception": false,
     "start_time": "2020-09-06T19:26:46.753564",
     "status": "completed"
    },
    "tags": []
   },
   "outputs": [],
   "source": [
    "## Importing the dataset\n",
    "dataset = pd.read_csv('C:/users/acer/desktop/python/vgsales.csv')"
   ]
  },
  {
   "cell_type": "code",
   "execution_count": 3,
   "metadata": {
    "execution": {
     "iopub.execute_input": "2020-09-06T19:26:46.922302Z",
     "iopub.status.busy": "2020-09-06T19:26:46.921693Z",
     "iopub.status.idle": "2020-09-06T19:26:46.949928Z",
     "shell.execute_reply": "2020-09-06T19:26:46.949206Z"
    },
    "papermill": {
     "duration": 0.05815,
     "end_time": "2020-09-06T19:26:46.950104",
     "exception": false,
     "start_time": "2020-09-06T19:26:46.891954",
     "status": "completed"
    },
    "tags": []
   },
   "outputs": [
    {
     "name": "stdout",
     "output_type": "stream",
     "text": [
      "<class 'pandas.core.frame.DataFrame'>\n",
      "RangeIndex: 16598 entries, 0 to 16597\n",
      "Data columns (total 11 columns):\n",
      "Rank            16598 non-null int64\n",
      "Name            16598 non-null object\n",
      "Platform        16598 non-null object\n",
      "Year            16327 non-null float64\n",
      "Genre           16598 non-null object\n",
      "Publisher       16540 non-null object\n",
      "NA_Sales        16598 non-null float64\n",
      "EU_Sales        16598 non-null float64\n",
      "JP_Sales        16598 non-null float64\n",
      "Other_Sales     16598 non-null float64\n",
      "Global_Sales    16598 non-null float64\n",
      "dtypes: float64(6), int64(1), object(4)\n",
      "memory usage: 1.4+ MB\n"
     ]
    }
   ],
   "source": [
    "dataset.info()"
   ]
  },
  {
   "cell_type": "code",
   "execution_count": 4,
   "metadata": {
    "execution": {
     "iopub.execute_input": "2020-09-06T19:26:47.018036Z",
     "iopub.status.busy": "2020-09-06T19:26:47.017361Z",
     "iopub.status.idle": "2020-09-06T19:26:47.031568Z",
     "shell.execute_reply": "2020-09-06T19:26:47.032041Z"
    },
    "papermill": {
     "duration": 0.054838,
     "end_time": "2020-09-06T19:26:47.032182",
     "exception": false,
     "start_time": "2020-09-06T19:26:46.977344",
     "status": "completed"
    },
    "tags": []
   },
   "outputs": [
    {
     "data": {
      "text/html": [
       "<div>\n",
       "<style scoped>\n",
       "    .dataframe tbody tr th:only-of-type {\n",
       "        vertical-align: middle;\n",
       "    }\n",
       "\n",
       "    .dataframe tbody tr th {\n",
       "        vertical-align: top;\n",
       "    }\n",
       "\n",
       "    .dataframe thead th {\n",
       "        text-align: right;\n",
       "    }\n",
       "</style>\n",
       "<table border=\"1\" class=\"dataframe\">\n",
       "  <thead>\n",
       "    <tr style=\"text-align: right;\">\n",
       "      <th></th>\n",
       "      <th>Rank</th>\n",
       "      <th>Name</th>\n",
       "      <th>Platform</th>\n",
       "      <th>Year</th>\n",
       "      <th>Genre</th>\n",
       "      <th>Publisher</th>\n",
       "      <th>NA_Sales</th>\n",
       "      <th>EU_Sales</th>\n",
       "      <th>JP_Sales</th>\n",
       "      <th>Other_Sales</th>\n",
       "      <th>Global_Sales</th>\n",
       "    </tr>\n",
       "  </thead>\n",
       "  <tbody>\n",
       "    <tr>\n",
       "      <th>0</th>\n",
       "      <td>1</td>\n",
       "      <td>Wii Sports</td>\n",
       "      <td>Wii</td>\n",
       "      <td>2006.0</td>\n",
       "      <td>Sports</td>\n",
       "      <td>Nintendo</td>\n",
       "      <td>41.49</td>\n",
       "      <td>29.02</td>\n",
       "      <td>3.77</td>\n",
       "      <td>8.46</td>\n",
       "      <td>82.74</td>\n",
       "    </tr>\n",
       "    <tr>\n",
       "      <th>1</th>\n",
       "      <td>2</td>\n",
       "      <td>Super Mario Bros.</td>\n",
       "      <td>NES</td>\n",
       "      <td>1985.0</td>\n",
       "      <td>Platform</td>\n",
       "      <td>Nintendo</td>\n",
       "      <td>29.08</td>\n",
       "      <td>3.58</td>\n",
       "      <td>6.81</td>\n",
       "      <td>0.77</td>\n",
       "      <td>40.24</td>\n",
       "    </tr>\n",
       "    <tr>\n",
       "      <th>2</th>\n",
       "      <td>3</td>\n",
       "      <td>Mario Kart Wii</td>\n",
       "      <td>Wii</td>\n",
       "      <td>2008.0</td>\n",
       "      <td>Racing</td>\n",
       "      <td>Nintendo</td>\n",
       "      <td>15.85</td>\n",
       "      <td>12.88</td>\n",
       "      <td>3.79</td>\n",
       "      <td>3.31</td>\n",
       "      <td>35.82</td>\n",
       "    </tr>\n",
       "    <tr>\n",
       "      <th>3</th>\n",
       "      <td>4</td>\n",
       "      <td>Wii Sports Resort</td>\n",
       "      <td>Wii</td>\n",
       "      <td>2009.0</td>\n",
       "      <td>Sports</td>\n",
       "      <td>Nintendo</td>\n",
       "      <td>15.75</td>\n",
       "      <td>11.01</td>\n",
       "      <td>3.28</td>\n",
       "      <td>2.96</td>\n",
       "      <td>33.00</td>\n",
       "    </tr>\n",
       "    <tr>\n",
       "      <th>4</th>\n",
       "      <td>5</td>\n",
       "      <td>Pokemon Red/Pokemon Blue</td>\n",
       "      <td>GB</td>\n",
       "      <td>1996.0</td>\n",
       "      <td>Role-Playing</td>\n",
       "      <td>Nintendo</td>\n",
       "      <td>11.27</td>\n",
       "      <td>8.89</td>\n",
       "      <td>10.22</td>\n",
       "      <td>1.00</td>\n",
       "      <td>31.37</td>\n",
       "    </tr>\n",
       "    <tr>\n",
       "      <th>5</th>\n",
       "      <td>6</td>\n",
       "      <td>Tetris</td>\n",
       "      <td>GB</td>\n",
       "      <td>1989.0</td>\n",
       "      <td>Puzzle</td>\n",
       "      <td>Nintendo</td>\n",
       "      <td>23.20</td>\n",
       "      <td>2.26</td>\n",
       "      <td>4.22</td>\n",
       "      <td>0.58</td>\n",
       "      <td>30.26</td>\n",
       "    </tr>\n",
       "    <tr>\n",
       "      <th>6</th>\n",
       "      <td>7</td>\n",
       "      <td>New Super Mario Bros.</td>\n",
       "      <td>DS</td>\n",
       "      <td>2006.0</td>\n",
       "      <td>Platform</td>\n",
       "      <td>Nintendo</td>\n",
       "      <td>11.38</td>\n",
       "      <td>9.23</td>\n",
       "      <td>6.50</td>\n",
       "      <td>2.90</td>\n",
       "      <td>30.01</td>\n",
       "    </tr>\n",
       "    <tr>\n",
       "      <th>7</th>\n",
       "      <td>8</td>\n",
       "      <td>Wii Play</td>\n",
       "      <td>Wii</td>\n",
       "      <td>2006.0</td>\n",
       "      <td>Misc</td>\n",
       "      <td>Nintendo</td>\n",
       "      <td>14.03</td>\n",
       "      <td>9.20</td>\n",
       "      <td>2.93</td>\n",
       "      <td>2.85</td>\n",
       "      <td>29.02</td>\n",
       "    </tr>\n",
       "    <tr>\n",
       "      <th>8</th>\n",
       "      <td>9</td>\n",
       "      <td>New Super Mario Bros. Wii</td>\n",
       "      <td>Wii</td>\n",
       "      <td>2009.0</td>\n",
       "      <td>Platform</td>\n",
       "      <td>Nintendo</td>\n",
       "      <td>14.59</td>\n",
       "      <td>7.06</td>\n",
       "      <td>4.70</td>\n",
       "      <td>2.26</td>\n",
       "      <td>28.62</td>\n",
       "    </tr>\n",
       "    <tr>\n",
       "      <th>9</th>\n",
       "      <td>10</td>\n",
       "      <td>Duck Hunt</td>\n",
       "      <td>NES</td>\n",
       "      <td>1984.0</td>\n",
       "      <td>Shooter</td>\n",
       "      <td>Nintendo</td>\n",
       "      <td>26.93</td>\n",
       "      <td>0.63</td>\n",
       "      <td>0.28</td>\n",
       "      <td>0.47</td>\n",
       "      <td>28.31</td>\n",
       "    </tr>\n",
       "  </tbody>\n",
       "</table>\n",
       "</div>"
      ],
      "text/plain": [
       "   Rank                       Name Platform    Year         Genre Publisher  \\\n",
       "0     1                 Wii Sports      Wii  2006.0        Sports  Nintendo   \n",
       "1     2          Super Mario Bros.      NES  1985.0      Platform  Nintendo   \n",
       "2     3             Mario Kart Wii      Wii  2008.0        Racing  Nintendo   \n",
       "3     4          Wii Sports Resort      Wii  2009.0        Sports  Nintendo   \n",
       "4     5   Pokemon Red/Pokemon Blue       GB  1996.0  Role-Playing  Nintendo   \n",
       "5     6                     Tetris       GB  1989.0        Puzzle  Nintendo   \n",
       "6     7      New Super Mario Bros.       DS  2006.0      Platform  Nintendo   \n",
       "7     8                   Wii Play      Wii  2006.0          Misc  Nintendo   \n",
       "8     9  New Super Mario Bros. Wii      Wii  2009.0      Platform  Nintendo   \n",
       "9    10                  Duck Hunt      NES  1984.0       Shooter  Nintendo   \n",
       "\n",
       "   NA_Sales  EU_Sales  JP_Sales  Other_Sales  Global_Sales  \n",
       "0     41.49     29.02      3.77         8.46         82.74  \n",
       "1     29.08      3.58      6.81         0.77         40.24  \n",
       "2     15.85     12.88      3.79         3.31         35.82  \n",
       "3     15.75     11.01      3.28         2.96         33.00  \n",
       "4     11.27      8.89     10.22         1.00         31.37  \n",
       "5     23.20      2.26      4.22         0.58         30.26  \n",
       "6     11.38      9.23      6.50         2.90         30.01  \n",
       "7     14.03      9.20      2.93         2.85         29.02  \n",
       "8     14.59      7.06      4.70         2.26         28.62  \n",
       "9     26.93      0.63      0.28         0.47         28.31  "
      ]
     },
     "execution_count": 4,
     "metadata": {},
     "output_type": "execute_result"
    }
   ],
   "source": [
    "dataset.head(10)"
   ]
  },
  {
   "cell_type": "code",
   "execution_count": 5,
   "metadata": {
    "execution": {
     "iopub.execute_input": "2020-09-06T19:26:47.077027Z",
     "iopub.status.busy": "2020-09-06T19:26:47.076316Z",
     "iopub.status.idle": "2020-09-06T19:26:47.081768Z",
     "shell.execute_reply": "2020-09-06T19:26:47.082231Z"
    },
    "papermill": {
     "duration": 0.031967,
     "end_time": "2020-09-06T19:26:47.082366",
     "exception": false,
     "start_time": "2020-09-06T19:26:47.050399",
     "status": "completed"
    },
    "tags": []
   },
   "outputs": [
    {
     "data": {
      "text/plain": [
       "True"
      ]
     },
     "execution_count": 5,
     "metadata": {},
     "output_type": "execute_result"
    }
   ],
   "source": [
    "# Checking for null values in the dataset\n",
    "dataset.isnull().values.any()"
   ]
  },
  {
   "cell_type": "code",
   "execution_count": 6,
   "metadata": {
    "execution": {
     "iopub.execute_input": "2020-09-06T19:26:47.129307Z",
     "iopub.status.busy": "2020-09-06T19:26:47.127586Z",
     "iopub.status.idle": "2020-09-06T19:26:47.149084Z",
     "shell.execute_reply": "2020-09-06T19:26:47.149588Z"
    },
    "papermill": {
     "duration": 0.048671,
     "end_time": "2020-09-06T19:26:47.149727",
     "exception": false,
     "start_time": "2020-09-06T19:26:47.101056",
     "status": "completed"
    },
    "tags": []
   },
   "outputs": [
    {
     "name": "stdout",
     "output_type": "stream",
     "text": [
      "False\n",
      "False\n",
      "False\n",
      "True\n",
      "False\n",
      "True\n",
      "False\n",
      "False\n",
      "False\n",
      "False\n",
      "False\n"
     ]
    }
   ],
   "source": [
    "## Checking which columns contain null values\n",
    "print(dataset['Rank'].isnull().values.any())\n",
    "print(dataset['Name'].isnull().values.any())\n",
    "print(dataset['Platform'].isnull().values.any())\n",
    "print(dataset['Year'].isnull().values.any())\n",
    "print(dataset['Genre'].isnull().values.any())\n",
    "print(dataset['Publisher'].isnull().values.any())\n",
    "print(dataset['NA_Sales'].isnull().values.any())\n",
    "print(dataset['EU_Sales'].isnull().values.any())\n",
    "print(dataset['JP_Sales'].isnull().values.any())\n",
    "print(dataset['Other_Sales'].isnull().values.any())\n",
    "print(dataset['Global_Sales'].isnull().values.any())"
   ]
  },
  {
   "cell_type": "code",
   "execution_count": 7,
   "metadata": {
    "execution": {
     "iopub.execute_input": "2020-09-06T19:26:47.197831Z",
     "iopub.status.busy": "2020-09-06T19:26:47.197089Z",
     "iopub.status.idle": "2020-09-06T19:26:47.202041Z",
     "shell.execute_reply": "2020-09-06T19:26:47.201381Z"
    },
    "papermill": {
     "duration": 0.033351,
     "end_time": "2020-09-06T19:26:47.202137",
     "exception": false,
     "start_time": "2020-09-06T19:26:47.168786",
     "status": "completed"
    },
    "tags": []
   },
   "outputs": [
    {
     "name": "stdout",
     "output_type": "stream",
     "text": [
      "271\n",
      "58\n"
     ]
    }
   ],
   "source": [
    "#Checking the number of missing value rows in the dataset\n",
    "print(dataset['Year'].isnull().sum())\n",
    "print(dataset['Publisher'].isnull().sum())"
   ]
  },
  {
   "cell_type": "code",
   "execution_count": 8,
   "metadata": {
    "execution": {
     "iopub.execute_input": "2020-09-06T19:26:47.257160Z",
     "iopub.status.busy": "2020-09-06T19:26:47.256532Z",
     "iopub.status.idle": "2020-09-06T19:26:47.265391Z",
     "shell.execute_reply": "2020-09-06T19:26:47.264719Z"
    },
    "papermill": {
     "duration": 0.043786,
     "end_time": "2020-09-06T19:26:47.265569",
     "exception": false,
     "start_time": "2020-09-06T19:26:47.221783",
     "status": "completed"
    },
    "tags": []
   },
   "outputs": [],
   "source": [
    "# Removing the missing value rows in the dataset\n",
    "dataset = dataset.dropna(axis=0, subset=['Year','Publisher'])"
   ]
  },
  {
   "cell_type": "code",
   "execution_count": 9,
   "metadata": {
    "execution": {
     "iopub.execute_input": "2020-09-06T19:26:47.321605Z",
     "iopub.status.busy": "2020-09-06T19:26:47.320871Z",
     "iopub.status.idle": "2020-09-06T19:26:47.328245Z",
     "shell.execute_reply": "2020-09-06T19:26:47.327650Z"
    },
    "papermill": {
     "duration": 0.042376,
     "end_time": "2020-09-06T19:26:47.328354",
     "exception": false,
     "start_time": "2020-09-06T19:26:47.285978",
     "status": "completed"
    },
    "tags": []
   },
   "outputs": [
    {
     "data": {
      "text/plain": [
       "False"
      ]
     },
     "execution_count": 9,
     "metadata": {},
     "output_type": "execute_result"
    }
   ],
   "source": [
    "dataset.isnull().values.any()"
   ]
  },
  {
   "cell_type": "code",
   "execution_count": 10,
   "metadata": {
    "execution": {
     "iopub.execute_input": "2020-09-06T19:26:47.383035Z",
     "iopub.status.busy": "2020-09-06T19:26:47.377795Z",
     "iopub.status.idle": "2020-09-06T19:26:47.387880Z",
     "shell.execute_reply": "2020-09-06T19:26:47.387320Z"
    },
    "papermill": {
     "duration": 0.039436,
     "end_time": "2020-09-06T19:26:47.387998",
     "exception": false,
     "start_time": "2020-09-06T19:26:47.348562",
     "status": "completed"
    },
    "tags": []
   },
   "outputs": [
    {
     "name": "stdout",
     "output_type": "stream",
     "text": [
      "['Wii Sports' 'Wii' 2006.0 'Sports' 'Nintendo' 41.49 29.02 3.77 8.46]\n",
      "[8.274e+01 4.024e+01 3.582e+01 ... 1.000e-02 1.000e-02 1.000e-02]\n"
     ]
    }
   ],
   "source": [
    "## Defining the features and the dependent variable\n",
    "x = dataset.iloc[:,1:-1].values\n",
    "y = dataset.iloc[:,-1].values\n",
    "print(x[0])\n",
    "print(y)"
   ]
  },
  {
   "cell_type": "code",
   "execution_count": 11,
   "metadata": {
    "execution": {
     "iopub.execute_input": "2020-09-06T19:26:47.441757Z",
     "iopub.status.busy": "2020-09-06T19:26:47.436715Z",
     "iopub.status.idle": "2020-09-06T19:26:47.973206Z",
     "shell.execute_reply": "2020-09-06T19:26:47.972634Z"
    },
    "papermill": {
     "duration": 0.564603,
     "end_time": "2020-09-06T19:26:47.973313",
     "exception": false,
     "start_time": "2020-09-06T19:26:47.408710",
     "status": "completed"
    },
    "tags": []
   },
   "outputs": [
    {
     "data": {
      "image/png": "[encoded data removed]",
      "text/plain": [
       "<Figure size 720x720 with 2 Axes>"
      ]
     },
     "metadata": {
      "needs_background": "light"
     },
     "output_type": "display_data"
    }
   ],
   "source": [
    "## Determining the relevancy of features using heatmap in calculating the outcome variable\n",
    "corrmat = dataset.corr()\n",
    "top_corr_features = corrmat.index\n",
    "plt.figure(figsize=(10,10))\n",
    "#Plotting heat map\n",
    "g=sns.heatmap(dataset[top_corr_features].corr(),annot=True,linewidths=.5)\n",
    "b, t = plt.ylim() # Finding the values for bottom and top\n",
    "b += 0.5 \n",
    "t -= 0.5 \n",
    "plt.ylim(b, t) \n",
    "plt.show() "
   ]
  },
  {
   "cell_type": "code",
   "execution_count": 12,
   "metadata": {
    "execution": {
     "iopub.execute_input": "2020-09-06T19:26:48.028891Z",
     "iopub.status.busy": "2020-09-06T19:26:48.028214Z",
     "iopub.status.idle": "2020-09-06T19:26:48.032134Z",
     "shell.execute_reply": "2020-09-06T19:26:48.031262Z"
    },
    "papermill": {
     "duration": 0.03649,
     "end_time": "2020-09-06T19:26:48.032270",
     "exception": false,
     "start_time": "2020-09-06T19:26:47.995780",
     "status": "completed"
    },
    "tags": []
   },
   "outputs": [
    {
     "name": "stdout",
     "output_type": "stream",
     "text": [
      "[41.49 29.02  3.77  8.46]\n"
     ]
    }
   ],
   "source": [
    "# Retaining only the useful features of the dataset\n",
    "# From the heatmap, we can decipher that the columns NA_Sales,JP_Sales,EU_Sales and Other_Sales are the most useful features\n",
    "# in determining the global sales\n",
    "x = dataset.iloc[:,6:-1].values\n",
    "print(x[0])"
   ]
  },
  {
   "cell_type": "code",
   "execution_count": 13,
   "metadata": {
    "execution": {
     "iopub.execute_input": "2020-09-06T19:26:48.084313Z",
     "iopub.status.busy": "2020-09-06T19:26:48.083713Z",
     "iopub.status.idle": "2020-09-06T19:26:48.242076Z",
     "shell.execute_reply": "2020-09-06T19:26:48.241363Z"
    },
    "papermill": {
     "duration": 0.185778,
     "end_time": "2020-09-06T19:26:48.242190",
     "exception": false,
     "start_time": "2020-09-06T19:26:48.056412",
     "status": "completed"
    },
    "tags": []
   },
   "outputs": [],
   "source": [
    "## Splitting the dataset into independent and dependent vaiables\n",
    "from sklearn.model_selection import train_test_split\n",
    "x_train,x_test,y_train,y_test = train_test_split(x,y,test_size=0.2,random_state=0)"
   ]
  },
  {
   "cell_type": "code",
   "execution_count": 14,
   "metadata": {
    "execution": {
     "iopub.execute_input": "2020-09-06T19:26:48.295064Z",
     "iopub.status.busy": "2020-09-06T19:26:48.294157Z",
     "iopub.status.idle": "2020-09-06T19:26:48.301351Z",
     "shell.execute_reply": "2020-09-06T19:26:48.300523Z"
    },
    "papermill": {
     "duration": 0.036284,
     "end_time": "2020-09-06T19:26:48.301517",
     "exception": false,
     "start_time": "2020-09-06T19:26:48.265233",
     "status": "completed"
    },
    "tags": []
   },
   "outputs": [
    {
     "name": "stdout",
     "output_type": "stream",
     "text": [
      "[[0.01 0.   0.   0.  ]\n",
      " [0.05 0.04 0.   0.01]\n",
      " [0.44 0.02 0.   0.04]\n",
      " ...\n",
      " [0.1  0.01 0.   0.01]\n",
      " [0.06 0.02 0.   0.01]\n",
      " [0.67 0.01 0.   0.06]]\n",
      "[[0.1  0.07 0.   0.01]\n",
      " [0.   0.   0.19 0.  ]\n",
      " [0.02 0.01 0.   0.  ]\n",
      " ...\n",
      " [0.15 0.   0.   0.01]\n",
      " [0.   0.   0.12 0.  ]\n",
      " [0.   0.   0.3  0.  ]]\n",
      "[0.01 0.09 0.49 ... 0.11 0.09 0.74]\n",
      "[0.19 0.19 0.02 ... 0.16 0.12 0.3 ]\n"
     ]
    }
   ],
   "source": [
    "print(x_train)\n",
    "print(x_test)\n",
    "print(y_train)\n",
    "print(y_test)"
   ]
  },
  {
   "cell_type": "markdown",
   "metadata": {
    "papermill": {
     "duration": 0.022546,
     "end_time": "2020-09-06T19:26:48.347845",
     "exception": false,
     "start_time": "2020-09-06T19:26:48.325299",
     "status": "completed"
    },
    "tags": []
   },
   "source": [
    "---"
   ]
  },
  {
   "cell_type": "markdown",
   "metadata": {
    "papermill": {
     "duration": 0.02378,
     "end_time": "2020-09-06T19:26:48.394590",
     "exception": false,
     "start_time": "2020-09-06T19:26:48.370810",
     "status": "completed"
    },
    "tags": []
   },
   "source": [
    "### Multiple Linear Regression"
   ]
  },
  {
   "cell_type": "code",
   "execution_count": 15,
   "metadata": {
    "execution": {
     "iopub.execute_input": "2020-09-06T19:26:48.447837Z",
     "iopub.status.busy": "2020-09-06T19:26:48.447195Z",
     "iopub.status.idle": "2020-09-06T19:26:48.600911Z",
     "shell.execute_reply": "2020-09-06T19:26:48.600242Z"
    },
    "papermill": {
     "duration": 0.182343,
     "end_time": "2020-09-06T19:26:48.601051",
     "exception": false,
     "start_time": "2020-09-06T19:26:48.418708",
     "status": "completed"
    },
    "tags": []
   },
   "outputs": [
    {
     "data": {
      "text/plain": [
       "LinearRegression()"
      ]
     },
     "execution_count": 15,
     "metadata": {},
     "output_type": "execute_result"
    }
   ],
   "source": [
    "## Training the multiple linear regression on the training set\n",
    "from sklearn.linear_model import LinearRegression\n",
    "regressor_MultiLinear = LinearRegression()\n",
    "regressor_MultiLinear.fit(x_train,y_train)"
   ]
  },
  {
   "cell_type": "code",
   "execution_count": 16,
   "metadata": {
    "execution": {
     "iopub.execute_input": "2020-09-06T19:26:48.673890Z",
     "iopub.status.busy": "2020-09-06T19:26:48.672943Z",
     "iopub.status.idle": "2020-09-06T19:26:48.677245Z",
     "shell.execute_reply": "2020-09-06T19:26:48.677949Z"
    },
    "papermill": {
     "duration": 0.044865,
     "end_time": "2020-09-06T19:26:48.678094",
     "exception": false,
     "start_time": "2020-09-06T19:26:48.633229",
     "status": "completed"
    },
    "tags": []
   },
   "outputs": [],
   "source": [
    "## Predicting test results\n",
    "y_pred = regressor_MultiLinear.predict(x_test)"
   ]
  },
  {
   "cell_type": "code",
   "execution_count": 17,
   "metadata": {
    "execution": {
     "iopub.execute_input": "2020-09-06T19:26:48.753399Z",
     "iopub.status.busy": "2020-09-06T19:26:48.752371Z",
     "iopub.status.idle": "2020-09-06T19:26:48.758260Z",
     "shell.execute_reply": "2020-09-06T19:26:48.757592Z"
    },
    "papermill": {
     "duration": 0.045728,
     "end_time": "2020-09-06T19:26:48.758381",
     "exception": false,
     "start_time": "2020-09-06T19:26:48.712653",
     "status": "completed"
    },
    "tags": []
   },
   "outputs": [
    {
     "name": "stdout",
     "output_type": "stream",
     "text": [
      "0.9999863067614225\n"
     ]
    }
   ],
   "source": [
    "# Calculating r2 score\n",
    "from sklearn.metrics import r2_score\n",
    "r2_MultiLinear = r2_score(y_test,y_pred)\n",
    "print(r2_MultiLinear)"
   ]
  },
  {
   "cell_type": "markdown",
   "metadata": {
    "papermill": {
     "duration": 0.034549,
     "end_time": "2020-09-06T19:26:48.827834",
     "exception": false,
     "start_time": "2020-09-06T19:26:48.793285",
     "status": "completed"
    },
    "tags": []
   },
   "source": [
    "----"
   ]
  },
  {
   "cell_type": "markdown",
   "metadata": {
    "papermill": {
     "duration": 0.034351,
     "end_time": "2020-09-06T19:26:48.897022",
     "exception": false,
     "start_time": "2020-09-06T19:26:48.862671",
     "status": "completed"
    },
    "tags": []
   },
   "source": [
    "### Polynomial Regression"
   ]
  },
  {
   "cell_type": "code",
   "execution_count": 18,
   "metadata": {
    "execution": {
     "iopub.execute_input": "2020-09-06T19:26:48.976655Z",
     "iopub.status.busy": "2020-09-06T19:26:48.975955Z",
     "iopub.status.idle": "2020-09-06T19:26:49.368764Z",
     "shell.execute_reply": "2020-09-06T19:26:49.367836Z"
    },
    "papermill": {
     "duration": 0.437431,
     "end_time": "2020-09-06T19:26:49.368893",
     "exception": false,
     "start_time": "2020-09-06T19:26:48.931462",
     "status": "completed"
    },
    "tags": []
   },
   "outputs": [
    {
     "data": {
      "image/png": "[encoded data removed]",
      "text/plain": [
       "<Figure size 432x288 with 1 Axes>"
      ]
     },
     "metadata": {},
     "output_type": "display_data"
    }
   ],
   "source": [
    "## Finding out the optimal degree of polynomial regression\n",
    "from sklearn.preprocessing import PolynomialFeatures\n",
    "sns.set_style('darkgrid')\n",
    "scores_list = []\n",
    "pRange = range(2,6)\n",
    "for i in pRange :\n",
    "    poly_reg = PolynomialFeatures(degree=i)\n",
    "    x_poly = poly_reg.fit_transform(x_train)\n",
    "    poly_regressor = LinearRegression()\n",
    "    poly_regressor.fit(x_poly,y_train)\n",
    "    y_pred = poly_regressor.predict(poly_reg.fit_transform(x_test))\n",
    "    scores_list.append(r2_score(y_test,y_pred))\n",
    "plt.plot(pRange,scores_list,linewidth=2)\n",
    "plt.xlabel('Degree of polynomial')\n",
    "plt.ylabel('r2 score with varying degrees')\n",
    "plt.show()"
   ]
  },
  {
   "cell_type": "code",
   "execution_count": 19,
   "metadata": {
    "execution": {
     "iopub.execute_input": "2020-09-06T19:26:49.447087Z",
     "iopub.status.busy": "2020-09-06T19:26:49.446426Z",
     "iopub.status.idle": "2020-09-06T19:26:49.459571Z",
     "shell.execute_reply": "2020-09-06T19:26:49.458929Z"
    },
    "papermill": {
     "duration": 0.054822,
     "end_time": "2020-09-06T19:26:49.459681",
     "exception": false,
     "start_time": "2020-09-06T19:26:49.404859",
     "status": "completed"
    },
    "tags": []
   },
   "outputs": [
    {
     "name": "stdout",
     "output_type": "stream",
     "text": [
      "0.9999862983602374\n"
     ]
    }
   ],
   "source": [
    "## Training the polynomial regression on the training model\n",
    "poly_reg = PolynomialFeatures(degree=2)\n",
    "x_poly = poly_reg.fit_transform(x_train)\n",
    "poly_regressor = LinearRegression()\n",
    "poly_regressor.fit(x_poly,y_train)\n",
    "y_pred = poly_regressor.predict(poly_reg.fit_transform(x_test))\n",
    "r2_poly = r2_score(y_test,y_pred)\n",
    "print(r2_poly)"
   ]
  },
  {
   "cell_type": "markdown",
   "metadata": {
    "papermill": {
     "duration": 0.023059,
     "end_time": "2020-09-06T19:26:49.506805",
     "exception": false,
     "start_time": "2020-09-06T19:26:49.483746",
     "status": "completed"
    },
    "tags": []
   },
   "source": [
    "---"
   ]
  },
  {
   "cell_type": "markdown",
   "metadata": {
    "papermill": {
     "duration": 0.035274,
     "end_time": "2020-09-06T19:26:49.575633",
     "exception": false,
     "start_time": "2020-09-06T19:26:49.540359",
     "status": "completed"
    },
    "tags": []
   },
   "source": [
    "### K-Nearest Neighbors Regression"
   ]
  },
  {
   "cell_type": "code",
   "execution_count": 20,
   "metadata": {
    "execution": {
     "iopub.execute_input": "2020-09-06T19:26:49.657036Z",
     "iopub.status.busy": "2020-09-06T19:26:49.655234Z",
     "iopub.status.idle": "2020-09-06T19:26:51.032417Z",
     "shell.execute_reply": "2020-09-06T19:26:51.031914Z"
    },
    "papermill": {
     "duration": 1.421627,
     "end_time": "2020-09-06T19:26:51.032563",
     "exception": false,
     "start_time": "2020-09-06T19:26:49.610936",
     "status": "completed"
    },
    "tags": []
   },
   "outputs": [
    {
     "data": {
      "image/png": "[encoded data removed]",
      "text/plain": [
       "<Figure size 432x288 with 1 Axes>"
      ]
     },
     "metadata": {},
     "output_type": "display_data"
    }
   ],
   "source": [
    "## Finding the optimal number of neighbors for KNN regression\n",
    "from sklearn.neighbors import KNeighborsRegressor\n",
    "knnRange = range(1,11,1)\n",
    "scores_list = []\n",
    "for i in knnRange:\n",
    "    regressor_knn = KNeighborsRegressor(n_neighbors=i)\n",
    "    regressor_knn.fit(x_train,y_train)\n",
    "    y_pred = regressor_knn.predict(x_test)\n",
    "    scores_list.append(r2_score(y_test,y_pred))\n",
    "plt.plot(knnRange,scores_list,linewidth=2,color='green')\n",
    "plt.xticks(knnRange)\n",
    "plt.xlabel('No. of neighbors')\n",
    "plt.ylabel('r2 score of KNN')\n",
    "plt.show()    "
   ]
  },
  {
   "cell_type": "code",
   "execution_count": 21,
   "metadata": {
    "execution": {
     "iopub.execute_input": "2020-09-06T19:26:51.135306Z",
     "iopub.status.busy": "2020-09-06T19:26:51.134694Z",
     "iopub.status.idle": "2020-09-06T19:26:51.184942Z",
     "shell.execute_reply": "2020-09-06T19:26:51.184283Z"
    },
    "papermill": {
     "duration": 0.128332,
     "end_time": "2020-09-06T19:26:51.185049",
     "exception": false,
     "start_time": "2020-09-06T19:26:51.056717",
     "status": "completed"
    },
    "tags": []
   },
   "outputs": [
    {
     "name": "stdout",
     "output_type": "stream",
     "text": [
      "0.9962856779674387\n"
     ]
    }
   ],
   "source": [
    "# Training the KNN model on the training set\n",
    "regressor_knn = KNeighborsRegressor(n_neighbors=7)\n",
    "regressor_knn.fit(x_train,y_train)\n",
    "y_pred = regressor_knn.predict(x_test)\n",
    "r2_knn = r2_score(y_test,y_pred)\n",
    "print(r2_knn)"
   ]
  },
  {
   "cell_type": "markdown",
   "metadata": {
    "papermill": {
     "duration": 0.024424,
     "end_time": "2020-09-06T19:26:51.234453",
     "exception": false,
     "start_time": "2020-09-06T19:26:51.210029",
     "status": "completed"
    },
    "tags": []
   },
   "source": [
    "---"
   ]
  },
  {
   "cell_type": "markdown",
   "metadata": {
    "papermill": {
     "duration": 0.023305,
     "end_time": "2020-09-06T19:26:51.281829",
     "exception": false,
     "start_time": "2020-09-06T19:26:51.258524",
     "status": "completed"
    },
    "tags": []
   },
   "source": [
    "### Decision Tree Regression"
   ]
  },
  {
   "cell_type": "code",
   "execution_count": 22,
   "metadata": {
    "execution": {
     "iopub.execute_input": "2020-09-06T19:26:51.334386Z",
     "iopub.status.busy": "2020-09-06T19:26:51.333622Z",
     "iopub.status.idle": "2020-09-06T19:26:51.409230Z",
     "shell.execute_reply": "2020-09-06T19:26:51.409786Z"
    },
    "papermill": {
     "duration": 0.104132,
     "end_time": "2020-09-06T19:26:51.409932",
     "exception": false,
     "start_time": "2020-09-06T19:26:51.305800",
     "status": "completed"
    },
    "tags": []
   },
   "outputs": [
    {
     "data": {
      "text/plain": [
       "DecisionTreeRegressor(random_state=0)"
      ]
     },
     "execution_count": 22,
     "metadata": {},
     "output_type": "execute_result"
    }
   ],
   "source": [
    "# Training the Decision Tree regression on the training model\n",
    "from sklearn.tree import DecisionTreeRegressor\n",
    "regressor_Tree = DecisionTreeRegressor(random_state=0)\n",
    "regressor_Tree.fit(x_train,y_train)"
   ]
  },
  {
   "cell_type": "code",
   "execution_count": 23,
   "metadata": {
    "execution": {
     "iopub.execute_input": "2020-09-06T19:26:51.465075Z",
     "iopub.status.busy": "2020-09-06T19:26:51.464180Z",
     "iopub.status.idle": "2020-09-06T19:26:51.468750Z",
     "shell.execute_reply": "2020-09-06T19:26:51.468090Z"
    },
    "papermill": {
     "duration": 0.033759,
     "end_time": "2020-09-06T19:26:51.468860",
     "exception": false,
     "start_time": "2020-09-06T19:26:51.435101",
     "status": "completed"
    },
    "tags": []
   },
   "outputs": [],
   "source": [
    "# Predicting test results\n",
    "y_pred = regressor_Tree.predict(x_test)"
   ]
  },
  {
   "cell_type": "code",
   "execution_count": 24,
   "metadata": {
    "execution": {
     "iopub.execute_input": "2020-09-06T19:26:51.523146Z",
     "iopub.status.busy": "2020-09-06T19:26:51.522449Z",
     "iopub.status.idle": "2020-09-06T19:26:51.526138Z",
     "shell.execute_reply": "2020-09-06T19:26:51.526708Z"
    },
    "papermill": {
     "duration": 0.033497,
     "end_time": "2020-09-06T19:26:51.526847",
     "exception": false,
     "start_time": "2020-09-06T19:26:51.493350",
     "status": "completed"
    },
    "tags": []
   },
   "outputs": [
    {
     "name": "stdout",
     "output_type": "stream",
     "text": [
      "0.9557430279189166\n"
     ]
    }
   ],
   "source": [
    "# Calculating r2 score\n",
    "r2_tree = r2_score(y_test,y_pred)\n",
    "print(r2_tree)"
   ]
  },
  {
   "cell_type": "markdown",
   "metadata": {
    "papermill": {
     "duration": 0.024695,
     "end_time": "2020-09-06T19:26:51.577257",
     "exception": false,
     "start_time": "2020-09-06T19:26:51.552562",
     "status": "completed"
    },
    "tags": []
   },
   "source": [
    "---"
   ]
  },
  {
   "cell_type": "markdown",
   "metadata": {
    "papermill": {
     "duration": 0.024679,
     "end_time": "2020-09-06T19:26:51.626806",
     "exception": false,
     "start_time": "2020-09-06T19:26:51.602127",
     "status": "completed"
    },
    "tags": []
   },
   "source": [
    "### Random Forest Regression"
   ]
  },
  {
   "cell_type": "code",
   "execution_count": 25,
   "metadata": {
    "execution": {
     "iopub.execute_input": "2020-09-06T19:26:51.685951Z",
     "iopub.status.busy": "2020-09-06T19:26:51.684500Z",
     "iopub.status.idle": "2020-09-06T19:27:44.888919Z",
     "shell.execute_reply": "2020-09-06T19:27:44.889432Z"
    },
    "papermill": {
     "duration": 53.238092,
     "end_time": "2020-09-06T19:27:44.889603",
     "exception": false,
     "start_time": "2020-09-06T19:26:51.651511",
     "status": "completed"
    },
    "tags": []
   },
   "outputs": [
    {
     "data": {
      "image/png": "[encoded data removed]",
      "text/plain": [
       "<Figure size 432x288 with 1 Axes>"
      ]
     },
     "metadata": {},
     "output_type": "display_data"
    }
   ],
   "source": [
    "# Finding out the optimal number of trees for Random Forest Regression\n",
    "from sklearn.ensemble import RandomForestRegressor\n",
    "forestRange=range(50,500,50)\n",
    "scores_list=[]\n",
    "for i in forestRange: \n",
    "    regressor_Forest = RandomForestRegressor(n_estimators=i,random_state=0)\n",
    "    regressor_Forest.fit(x_train,y_train)\n",
    "    y_pred = regressor_Forest.predict(x_test)\n",
    "    scores_list.append(r2_score(y_test,y_pred))\n",
    "plt.plot(forestRange,scores_list,linewidth=2,color='maroon')\n",
    "plt.xticks(forestRange)\n",
    "plt.xlabel('No. of trees')\n",
    "plt.ylabel('r2 score of Random Forest Reg.')\n",
    "plt.show()    "
   ]
  },
  {
   "cell_type": "code",
   "execution_count": 26,
   "metadata": {
    "execution": {
     "iopub.execute_input": "2020-09-06T19:27:44.952942Z",
     "iopub.status.busy": "2020-09-06T19:27:44.946738Z",
     "iopub.status.idle": "2020-09-06T19:27:47.139224Z",
     "shell.execute_reply": "2020-09-06T19:27:47.139791Z"
    },
    "papermill": {
     "duration": 2.225841,
     "end_time": "2020-09-06T19:27:47.139930",
     "exception": false,
     "start_time": "2020-09-06T19:27:44.914089",
     "status": "completed"
    },
    "tags": []
   },
   "outputs": [
    {
     "name": "stdout",
     "output_type": "stream",
     "text": [
      "0.9903442928856757\n"
     ]
    }
   ],
   "source": [
    "# Training the Random Forest regression on the training model\n",
    "regressor_Forest = RandomForestRegressor(n_estimators=100,random_state=0)\n",
    "regressor_Forest.fit(x_train,y_train)\n",
    "y_pred = regressor_Forest.predict(x_test)\n",
    "r2_forest = r2_score(y_test,y_pred)\n",
    "print(r2_forest)"
   ]
  },
  {
   "cell_type": "markdown",
   "metadata": {
    "papermill": {
     "duration": 0.024462,
     "end_time": "2020-09-06T19:27:47.189863",
     "exception": false,
     "start_time": "2020-09-06T19:27:47.165401",
     "status": "completed"
    },
    "tags": []
   },
   "source": [
    "---"
   ]
  },
  {
   "cell_type": "code",
   "execution_count": 27,
   "metadata": {
    "execution": {
     "iopub.execute_input": "2020-09-06T19:27:47.247167Z",
     "iopub.status.busy": "2020-09-06T19:27:47.246126Z",
     "iopub.status.idle": "2020-09-06T19:27:47.254365Z",
     "shell.execute_reply": "2020-09-06T19:27:47.253683Z"
    },
    "papermill": {
     "duration": 0.039933,
     "end_time": "2020-09-06T19:27:47.254526",
     "exception": false,
     "start_time": "2020-09-06T19:27:47.214593",
     "status": "completed"
    },
    "tags": []
   },
   "outputs": [],
   "source": [
    "## Feature Scaling\n",
    "from sklearn.preprocessing import StandardScaler\n",
    "sc_x = StandardScaler()\n",
    "x_train = sc_x.fit_transform(x_train)\n",
    "x_test = sc_x.transform(x_test)\n",
    "sc_y = StandardScaler()\n",
    "y_train = sc_y.fit_transform(np.reshape(y_train,(len(y_train),1)))\n",
    "y_test = sc_y.transform(np.reshape(y_test,(len(y_test),1)))"
   ]
  },
  {
   "cell_type": "code",
   "execution_count": 28,
   "metadata": {
    "execution": {
     "iopub.execute_input": "2020-09-06T19:27:47.338322Z",
     "iopub.status.busy": "2020-09-06T19:27:47.337461Z",
     "iopub.status.idle": "2020-09-06T19:27:47.345383Z",
     "shell.execute_reply": "2020-09-06T19:27:47.344711Z"
    },
    "papermill": {
     "duration": 0.052097,
     "end_time": "2020-09-06T19:27:47.345537",
     "exception": false,
     "start_time": "2020-09-06T19:27:47.293440",
     "status": "completed"
    },
    "tags": []
   },
   "outputs": [
    {
     "name": "stdout",
     "output_type": "stream",
     "text": [
      "[[-0.30955728 -0.28390883 -0.24821835 -0.24641218]\n",
      " [-0.2609813  -0.20724683 -0.24821835 -0.19583265]\n",
      " [ 0.21263455 -0.24557783 -0.24821835 -0.04409408]\n",
      " ...\n",
      " [-0.20026132 -0.26474333 -0.24821835 -0.19583265]\n",
      " [-0.2488373  -0.24557783 -0.24821835 -0.19583265]\n",
      " [ 0.49194647 -0.26474333 -0.24821835  0.05706498]]\n",
      "[[-0.20026132 -0.14975033 -0.24821835 -0.19583265]\n",
      " [-0.32170128 -0.28390883  0.34373605 -0.24641218]\n",
      " [-0.29741329 -0.26474333 -0.24821835 -0.24641218]\n",
      " ...\n",
      " [-0.13954134 -0.28390883 -0.24821835 -0.19583265]\n",
      " [-0.32170128 -0.28390883  0.12564759 -0.24641218]\n",
      " [-0.32170128 -0.28390883  0.6864465  -0.24641218]]\n",
      "[[-0.21994512]\n",
      " [-0.21994512]\n",
      " [-0.32626397]\n",
      " ...\n",
      " [-0.23870727]\n",
      " [-0.26372347]\n",
      " [-0.15115057]]\n",
      "[[-0.33251802]\n",
      " [-0.28248562]\n",
      " [-0.03232363]\n",
      " ...\n",
      " [-0.26997752]\n",
      " [-0.28248562]\n",
      " [ 0.12402762]]\n"
     ]
    }
   ],
   "source": [
    "print(x_train)\n",
    "print(x_test)\n",
    "print(y_test)\n",
    "print(y_train)"
   ]
  },
  {
   "cell_type": "markdown",
   "metadata": {
    "papermill": {
     "duration": 0.036898,
     "end_time": "2020-09-06T19:27:47.419672",
     "exception": false,
     "start_time": "2020-09-06T19:27:47.382774",
     "status": "completed"
    },
    "tags": []
   },
   "source": [
    "### Linear Support Vector Regression"
   ]
  },
  {
   "cell_type": "code",
   "execution_count": 29,
   "metadata": {
    "execution": {
     "iopub.execute_input": "2020-09-06T19:27:47.500525Z",
     "iopub.status.busy": "2020-09-06T19:27:47.499715Z",
     "iopub.status.idle": "2020-09-06T19:27:47.916883Z",
     "shell.execute_reply": "2020-09-06T19:27:47.916181Z"
    },
    "papermill": {
     "duration": 0.460178,
     "end_time": "2020-09-06T19:27:47.917027",
     "exception": false,
     "start_time": "2020-09-06T19:27:47.456849",
     "status": "completed"
    },
    "tags": []
   },
   "outputs": [
    {
     "data": {
      "text/plain": [
       "SVR(kernel='linear')"
      ]
     },
     "execution_count": 29,
     "metadata": {},
     "output_type": "execute_result"
    }
   ],
   "source": [
    "## Training the Linear SVR model on the training set\n",
    "from sklearn.svm import SVR\n",
    "regressor_SVR = SVR(kernel='linear')\n",
    "regressor_SVR.fit(x_train,y_train)"
   ]
  },
  {
   "cell_type": "code",
   "execution_count": 30,
   "metadata": {
    "execution": {
     "iopub.execute_input": "2020-09-06T19:27:47.997118Z",
     "iopub.status.busy": "2020-09-06T19:27:47.996219Z",
     "iopub.status.idle": "2020-09-06T19:27:48.000563Z",
     "shell.execute_reply": "2020-09-06T19:27:47.999954Z"
    },
    "papermill": {
     "duration": 0.046006,
     "end_time": "2020-09-06T19:27:48.000670",
     "exception": false,
     "start_time": "2020-09-06T19:27:47.954664",
     "status": "completed"
    },
    "tags": []
   },
   "outputs": [],
   "source": [
    "## Predicting test results\n",
    "y_pred = regressor_SVR.predict(x_test)"
   ]
  },
  {
   "cell_type": "code",
   "execution_count": 31,
   "metadata": {
    "execution": {
     "iopub.execute_input": "2020-09-06T19:27:48.055799Z",
     "iopub.status.busy": "2020-09-06T19:27:48.054916Z",
     "iopub.status.idle": "2020-09-06T19:27:48.060605Z",
     "shell.execute_reply": "2020-09-06T19:27:48.059760Z"
    },
    "papermill": {
     "duration": 0.035085,
     "end_time": "2020-09-06T19:27:48.060736",
     "exception": false,
     "start_time": "2020-09-06T19:27:48.025651",
     "status": "completed"
    },
    "tags": []
   },
   "outputs": [
    {
     "name": "stdout",
     "output_type": "stream",
     "text": [
      "0.9915019792741975\n"
     ]
    }
   ],
   "source": [
    "## Calculating r2 score\n",
    "r2_linearSVR = r2_score(y_test,y_pred)\n",
    "print(r2_linearSVR)"
   ]
  },
  {
   "cell_type": "markdown",
   "metadata": {
    "papermill": {
     "duration": 0.024718,
     "end_time": "2020-09-06T19:27:48.111942",
     "exception": false,
     "start_time": "2020-09-06T19:27:48.087224",
     "status": "completed"
    },
    "tags": []
   },
   "source": [
    "---"
   ]
  },
  {
   "cell_type": "markdown",
   "metadata": {
    "papermill": {
     "duration": 0.024702,
     "end_time": "2020-09-06T19:27:48.161645",
     "exception": false,
     "start_time": "2020-09-06T19:27:48.136943",
     "status": "completed"
    },
    "tags": []
   },
   "source": [
    "### Non-linear Support Vector Regression"
   ]
  },
  {
   "cell_type": "code",
   "execution_count": 32,
   "metadata": {
    "execution": {
     "iopub.execute_input": "2020-09-06T19:27:48.218795Z",
     "iopub.status.busy": "2020-09-06T19:27:48.217740Z",
     "iopub.status.idle": "2020-09-06T19:27:48.836956Z",
     "shell.execute_reply": "2020-09-06T19:27:48.836412Z"
    },
    "papermill": {
     "duration": 0.649673,
     "end_time": "2020-09-06T19:27:48.837080",
     "exception": false,
     "start_time": "2020-09-06T19:27:48.187407",
     "status": "completed"
    },
    "tags": []
   },
   "outputs": [
    {
     "data": {
      "text/plain": [
       "SVR()"
      ]
     },
     "execution_count": 32,
     "metadata": {},
     "output_type": "execute_result"
    }
   ],
   "source": [
    "## Training the Non-linear SVR model on the training set\n",
    "from sklearn.svm import SVR\n",
    "regressor_NonLinearSVR = SVR(kernel='rbf')\n",
    "regressor_NonLinearSVR.fit(x_train,y_train)"
   ]
  },
  {
   "cell_type": "code",
   "execution_count": 33,
   "metadata": {
    "execution": {
     "iopub.execute_input": "2020-09-06T19:27:48.932741Z",
     "iopub.status.busy": "2020-09-06T19:27:48.932079Z",
     "iopub.status.idle": "2020-09-06T19:27:48.959738Z",
     "shell.execute_reply": "2020-09-06T19:27:48.959094Z"
    },
    "papermill": {
     "duration": 0.096999,
     "end_time": "2020-09-06T19:27:48.959843",
     "exception": false,
     "start_time": "2020-09-06T19:27:48.862844",
     "status": "completed"
    },
    "tags": []
   },
   "outputs": [],
   "source": [
    "## Predicting test results\n",
    "y_pred = regressor_NonLinearSVR.predict(x_test)"
   ]
  },
  {
   "cell_type": "code",
   "execution_count": 34,
   "metadata": {
    "execution": {
     "iopub.execute_input": "2020-09-06T19:27:49.017195Z",
     "iopub.status.busy": "2020-09-06T19:27:49.016281Z",
     "iopub.status.idle": "2020-09-06T19:27:49.020850Z",
     "shell.execute_reply": "2020-09-06T19:27:49.020198Z"
    },
    "papermill": {
     "duration": 0.035225,
     "end_time": "2020-09-06T19:27:49.020954",
     "exception": false,
     "start_time": "2020-09-06T19:27:48.985729",
     "status": "completed"
    },
    "tags": []
   },
   "outputs": [
    {
     "name": "stdout",
     "output_type": "stream",
     "text": [
      "0.7434575740491709\n"
     ]
    }
   ],
   "source": [
    "## Calculating r2 score\n",
    "r2_NonlinearSVR = r2_score(y_test,y_pred)\n",
    "print(r2_NonlinearSVR)"
   ]
  },
  {
   "cell_type": "markdown",
   "metadata": {
    "papermill": {
     "duration": 0.025232,
     "end_time": "2020-09-06T19:27:49.071567",
     "exception": false,
     "start_time": "2020-09-06T19:27:49.046335",
     "status": "completed"
    },
    "tags": []
   },
   "source": [
    "---"
   ]
  },
  {
   "cell_type": "code",
   "execution_count": 35,
   "metadata": {
    "execution": {
     "iopub.execute_input": "2020-09-06T19:27:49.130259Z",
     "iopub.status.busy": "2020-09-06T19:27:49.129652Z",
     "iopub.status.idle": "2020-09-06T19:27:50.466235Z",
     "shell.execute_reply": "2020-09-06T19:27:50.466968Z"
    },
    "papermill": {
     "duration": 1.369998,
     "end_time": "2020-09-06T19:27:50.467136",
     "exception": false,
     "start_time": "2020-09-06T19:27:49.097138",
     "status": "completed"
    },
    "tags": []
   },
   "outputs": [
    {
     "data": {
      "text/plain": [
       "XGBRegressor(base_score=0.5, booster='gbtree', colsample_bylevel=1,\n",
       "             colsample_bynode=1, colsample_bytree=1, gamma=0, gpu_id=-1,\n",
       "             importance_type='gain', interaction_constraints='',\n",
       "             learning_rate=0.300000012, max_delta_step=0, max_depth=6,\n",
       "             min_child_weight=1, missing=nan, monotone_constraints='()',\n",
       "             n_estimators=100, n_jobs=0, num_parallel_tree=1, random_state=0,\n",
       "             reg_alpha=0, reg_lambda=1, scale_pos_weight=1, subsample=1,\n",
       "             tree_method='exact', validate_parameters=1, verbosity=None)"
      ]
     },
     "execution_count": 35,
     "metadata": {},
     "output_type": "execute_result"
    }
   ],
   "source": [
    "## Applying XGBoost Regression model on the training set\n",
    "from xgboost import XGBRegressor\n",
    "regressor_xgb = XGBRegressor()\n",
    "regressor_xgb.fit(x_train,y_train)"
   ]
  },
  {
   "cell_type": "code",
   "execution_count": 36,
   "metadata": {
    "execution": {
     "iopub.execute_input": "2020-09-06T19:27:50.548684Z",
     "iopub.status.busy": "2020-09-06T19:27:50.547916Z",
     "iopub.status.idle": "2020-09-06T19:27:50.552465Z",
     "shell.execute_reply": "2020-09-06T19:27:50.553192Z"
    },
    "papermill": {
     "duration": 0.052074,
     "end_time": "2020-09-06T19:27:50.553345",
     "exception": false,
     "start_time": "2020-09-06T19:27:50.501271",
     "status": "completed"
    },
    "tags": []
   },
   "outputs": [],
   "source": [
    "## Predicting test results\n",
    "y_pred = regressor_xgb.predict(x_test)"
   ]
  },
  {
   "cell_type": "code",
   "execution_count": 37,
   "metadata": {
    "execution": {
     "iopub.execute_input": "2020-09-06T19:27:50.627168Z",
     "iopub.status.busy": "2020-09-06T19:27:50.626424Z",
     "iopub.status.idle": "2020-09-06T19:27:50.629379Z",
     "shell.execute_reply": "2020-09-06T19:27:50.629995Z"
    },
    "papermill": {
     "duration": 0.04323,
     "end_time": "2020-09-06T19:27:50.630155",
     "exception": false,
     "start_time": "2020-09-06T19:27:50.586925",
     "status": "completed"
    },
    "tags": []
   },
   "outputs": [
    {
     "name": "stdout",
     "output_type": "stream",
     "text": [
      "0.9848147845937684\n"
     ]
    }
   ],
   "source": [
    "## Calculating r2 score\n",
    "r2_xgb = r2_score(y_test,y_pred)\n",
    "print(r2_xgb)"
   ]
  },
  {
   "cell_type": "markdown",
   "metadata": {
    "papermill": {
     "duration": 0.032241,
     "end_time": "2020-09-06T19:27:50.695339",
     "exception": false,
     "start_time": "2020-09-06T19:27:50.663098",
     "status": "completed"
    },
    "tags": []
   },
   "source": [
    "---"
   ]
  },
  {
   "cell_type": "code",
   "execution_count": 38,
   "metadata": {
    "execution": {
     "iopub.execute_input": "2020-09-06T19:27:50.767235Z",
     "iopub.status.busy": "2020-09-06T19:27:50.766391Z",
     "iopub.status.idle": "2020-09-06T19:27:50.771122Z",
     "shell.execute_reply": "2020-09-06T19:27:50.770327Z"
    },
    "papermill": {
     "duration": 0.04331,
     "end_time": "2020-09-06T19:27:50.771258",
     "exception": false,
     "start_time": "2020-09-06T19:27:50.727948",
     "status": "completed"
    },
    "tags": []
   },
   "outputs": [
    {
     "name": "stdout",
     "output_type": "stream",
     "text": [
      "[99.999, 99.999, 99.629, 95.574, 99.034, 99.15, 74.346, 98.481]\n"
     ]
    }
   ],
   "source": [
    "## Comparing the r2 scores of different models\n",
    "labelList = ['Multiple Linear Reg.','Polynomial Reg.','K-NearestNeighbors','Decision Tree','Random Forest',\n",
    "             'Linear SVR','Non-Linear SVR','XGBoost Reg.']\n",
    "mylist = [r2_MultiLinear,r2_poly,r2_knn,r2_tree,r2_forest,r2_linearSVR,r2_NonlinearSVR,r2_xgb]\n",
    "for i in range(0,len(mylist)):\n",
    "    mylist[i]=np.round(mylist[i]*100,decimals=3)\n",
    "print(mylist)"
   ]
  },
  {
   "cell_type": "code",
   "execution_count": 39,
   "metadata": {
    "execution": {
     "iopub.execute_input": "2020-09-06T19:27:50.850872Z",
     "iopub.status.busy": "2020-09-06T19:27:50.849938Z",
     "iopub.status.idle": "2020-09-06T19:27:51.090330Z",
     "shell.execute_reply": "2020-09-06T19:27:51.089718Z"
    },
    "papermill": {
     "duration": 0.291488,
     "end_time": "2020-09-06T19:27:51.090435",
     "exception": false,
     "start_time": "2020-09-06T19:27:50.798947",
     "status": "completed"
    },
    "tags": []
   },
   "outputs": [
    {
     "data": {
      "image/png": "[encoded data removed]",
      "text/plain": [
       "<Figure size 1008x576 with 1 Axes>"
      ]
     },
     "metadata": {},
     "output_type": "display_data"
    }
   ],
   "source": [
    "plt.figure(figsize=(14,8))\n",
    "ax = sns.barplot(x=labelList,y=mylist)\n",
    "plt.yticks(np.arange(0, 101, step=10))\n",
    "plt.title('r2 score comparison among different regression models',fontweight='bold')\n",
    "for p in ax.patches:\n",
    "    width, height = p.get_width(), p.get_height()\n",
    "    x, y = p.get_xy() \n",
    "    ax.annotate('{:.3f}%'.format(height), (x +0.25, y + height + 0.8))\n",
    "plt.show()"
   ]
  }
 ],
 "metadata": {
  "kernelspec": {
   "display_name": "Python 3",
   "language": "python",
   "name": "python3"
  },
  "language_info": {
   "codemirror_mode": {
    "name": "ipython",
    "version": 3
   },
   "file_extension": ".py",
   "mimetype": "text/x-python",
   "name": "python",
   "nbconvert_exporter": "python",
   "pygments_lexer": "ipython3",
   "version": "3.6.4"
  },
  "papermill": {
   "duration": 73.388356,
   "end_time": "2020-09-06T19:27:52.181869",
   "environment_variables": {},
   "exception": null,
   "input_path": "__notebook__.ipynb",
   "output_path": "__notebook__.ipynb",
   "parameters": {},
   "start_time": "2020-09-06T19:26:38.793513",
   "version": "2.1.0"
  }
 },
 "nbformat": 4,
 "nbformat_minor": 4
}
